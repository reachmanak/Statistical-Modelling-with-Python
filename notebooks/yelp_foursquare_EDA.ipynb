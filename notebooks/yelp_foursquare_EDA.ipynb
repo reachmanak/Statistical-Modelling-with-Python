{
 "cells": [
  {
   "cell_type": "code",
   "execution_count": 1,
   "metadata": {},
   "outputs": [],
   "source": [
    "import pandas as pd\n",
    "import numpy as np\n",
    "import seaborn as sns                       #visualisation\n",
    "import matplotlib.pyplot as plt             #visualisation\n",
    "%matplotlib inline     \n",
    "sns.set(color_codes=True)"
   ]
  },
  {
   "cell_type": "code",
   "execution_count": null,
   "metadata": {},
   "outputs": [],
   "source": [
    "# Loading dotenv package for authorization\n",
    "import os\n",
    "from dotenv import load_dotenv\n",
    "\n",
    "load_dotenv()\n",
    "YELP_KEY = os.environ.get('YELP_key')"
   ]
  },
  {
   "cell_type": "code",
   "execution_count": null,
   "metadata": {},
   "outputs": [],
   "source": [
    "# Ipython package for better readability\n",
    "import requests\n",
    "from IPython.display import JSON"
   ]
  },
  {
   "cell_type": "code",
   "execution_count": null,
   "metadata": {},
   "outputs": [],
   "source": [
    "# inserting my authorization key\n",
    "with open('YELP_KEY.txt') as content:\n",
    "    yelp_key = content.read()"
   ]
  },
  {
   "cell_type": "markdown",
   "metadata": {},
   "source": [
    "# Foursquare"
   ]
  },
  {
   "cell_type": "markdown",
   "metadata": {},
   "source": [
    "Send a request to Foursquare with a small radius (1000m) for all the bike stations in your city of choice. "
   ]
  },
  {
   "cell_type": "code",
   "execution_count": null,
   "metadata": {
    "tags": []
   },
   "outputs": [],
   "source": [
    "# Finding eateries close to 1000m of bike stations\n",
    "import requests\n",
    "API_KEY = os.environ.get('API_Key')\n",
    "foursq_location = []\n",
    "for cb_geo in range(len(df2_longitude)):\n",
    "    \n",
    "    url = f\"https://api.foursquare.com/v3/places/search?query=restaurants&ll={df2_latitude[cb_geo]},{df2_longitude[cb_geo]}&radius=1000&fields=rating%2Cfsq_id%2Cname%2Ccategories%2Clocation%2Cdistance%2Cpopularity&sort=RELEVANCE\"\n",
    "\n",
    "    headers = {\n",
    "        \"accept\": \"application/json\",\n",
    "        \"Authorization\": API_KEY\n",
    "               }\n",
    "\n",
    "    response = requests.get(url, headers=headers)\n",
    "    foursq_location.append(response.json())\n",
    "JSON(foursq_location)"
   ]
  },
  {
   "cell_type": "markdown",
   "metadata": {},
   "source": [
    "Parse through the response to get the POI (such as restaurants, bars, etc) details you want (ratings, name, location, etc)"
   ]
  },
  {
   "cell_type": "code",
   "execution_count": null,
   "metadata": {},
   "outputs": [],
   "source": [
    "name = []\n",
    "rating = []\n",
    "fsq_id = []\n",
    "temp = {}\n",
    "for i in  (range(len(foursq_location))):\n",
    "    name.append(foursq_location[i][\"results\"][0][\"name\"])\n",
    "    rating.append(foursq_location[i][\"results\"][0][\"rating\"])\n",
    "    fsq_id.append(foursq_location[i][\"results\"][0][\"fsq_id\"])\n",
    "    \n",
    "temp = {\"name\":name,\"rating\": rating,\"fsq_id\":fsq_id}"
   ]
  },
  {
   "cell_type": "code",
   "execution_count": null,
   "metadata": {},
   "outputs": [],
   "source": [
    "# Using JSON data and getting POI for every location\n",
    "POI_list = df333\n",
    "POI_data = []\n",
    "for poi in POI_list:\n",
    "    POI_data.append(poi)\n",
    "df3333 = pd.json_normalize(poi)\n",
    "df3333"
   ]
  },
  {
   "cell_type": "markdown",
   "metadata": {},
   "source": [
    "Put your parsed results into a DataFrame"
   ]
  },
  {
   "cell_type": "code",
   "execution_count": null,
   "metadata": {},
   "outputs": [],
   "source": [
    "# Normalizing data, droping some irrelevant columns and selecting few ones for futher analysis\n",
    "df3 = pd.json_normalize(POI_data)\n",
    "df3.drop(df3.iloc[:,7:] ,inplace=True, axis=1)\n",
    "df3.drop(columns=['fsq_id','categories'],inplace=True, axis=1)\n",
    "df3.columns=['distance','name','popularity','rating','address']\n",
    "df3.to_csv('fourSQ.csv')\n",
    "df3"
   ]
  },
  {
   "cell_type": "markdown",
   "metadata": {},
   "source": [
    "# Yelp"
   ]
  },
  {
   "cell_type": "markdown",
   "metadata": {},
   "source": [
    "Send a request to Yelp with a small radius (1000m) for all the bike stations in your city of choice. "
   ]
  },
  {
   "cell_type": "code",
   "execution_count": null,
   "metadata": {},
   "outputs": [],
   "source": [
    "# Finding eateries close to 1000m of bike stations\n",
    "import requests\n",
    "with open('YELP_KEY.txt') as content:\n",
    "    yelp_key = content.read()\n",
    "yelp_location = []\n",
    "for cb_geo in range(len(df3_longitude)):\n",
    "    \n",
    "    url = f\"https://api.yelp.com/v3/businesses/search?location=london&latitude={df3_latitude[cb_geo]}&longitude={df3_longitude[cb_geo]}&term=restaurants&radius=1000&categories=name%26categories%3Dlocation%26categories%3Ddistance%26categories%3Dpopularity%26categories%3Drating&sort_by=rating&limit=50\"\n",
    "\n",
    "    headers = {\n",
    "        \"accept\": \"application/json\",\n",
    "        \"Authorization\": yelp_key\n",
    "               }\n",
    "\n",
    "    response = requests.get(url, headers=headers)\n",
    "    yelp_location.append(response.json())\n",
    "JSON(yelp_location)"
   ]
  },
  {
   "cell_type": "markdown",
   "metadata": {},
   "source": [
    "Parse through the response to get the POI (such as restaurants, bars, etc) details you want (ratings, name, location, etc)"
   ]
  },
  {
   "cell_type": "code",
   "execution_count": null,
   "metadata": {},
   "outputs": [],
   "source": [
    "# POI for data through YELP\n",
    "POI_list = yelp_location['businesses']\n",
    "POI_data = []\n",
    "for poi in POI_list:\n",
    "    POI_data.append(poi)"
   ]
  },
  {
   "cell_type": "markdown",
   "metadata": {},
   "source": [
    "Put your parsed results into a DataFrame"
   ]
  },
  {
   "cell_type": "code",
   "execution_count": null,
   "metadata": {},
   "outputs": [],
   "source": [
    "# Normalizing data, droping some irrelevant columns and selecting few ones for further analysis\n",
    "df4 = pd.json_normalize(POI_data)\n",
    "df4.drop(columns=['url','alias','id','transactions','categories','image_url','is_closed','coordinates.latitude','coordinates.longitude','price','phone','display_phone'] ,inplace=True, axis=1)\n",
    "df4.drop(df4.iloc[:,5:14] ,inplace=True, axis=1)\n",
    "df4.columns=['name','review_count','rating','distance','location.address1']\n",
    "df4.rename(columns = {'location.address1':'address','review_count':'review'},inplace=True)\n",
    "df4"
   ]
  },
  {
   "cell_type": "markdown",
   "metadata": {},
   "source": [
    "# Comparing Results"
   ]
  },
  {
   "cell_type": "markdown",
   "metadata": {},
   "source": [
    "Which API provided you with more complete data? Provide an explanation. "
   ]
  },
  {
   "cell_type": "markdown",
   "metadata": {},
   "source": [
    "Yelp API provided more information, simply for the fact that it provided me more parameters for the model. Certain feilds like reviews and ratings for all restaurants helped a lot. All can be seen from above queries."
   ]
  },
  {
   "cell_type": "markdown",
   "metadata": {},
   "source": [
    "Get the top 10 restaurants according to their rating"
   ]
  },
  {
   "cell_type": "code",
   "execution_count": 2,
   "metadata": {},
   "outputs": [
    {
     "data": {
      "text/html": [
       "<div>\n",
       "<style scoped>\n",
       "    .dataframe tbody tr th:only-of-type {\n",
       "        vertical-align: middle;\n",
       "    }\n",
       "\n",
       "    .dataframe tbody tr th {\n",
       "        vertical-align: top;\n",
       "    }\n",
       "\n",
       "    .dataframe thead th {\n",
       "        text-align: right;\n",
       "    }\n",
       "</style>\n",
       "<table border=\"1\" class=\"dataframe\">\n",
       "  <thead>\n",
       "    <tr style=\"text-align: right;\">\n",
       "      <th></th>\n",
       "      <th>distance</th>\n",
       "      <th>name</th>\n",
       "      <th>popularity</th>\n",
       "      <th>rating</th>\n",
       "      <th>address</th>\n",
       "    </tr>\n",
       "  </thead>\n",
       "  <tbody>\n",
       "    <tr>\n",
       "      <th>0</th>\n",
       "      <td>192</td>\n",
       "      <td>Hanoi Cafe</td>\n",
       "      <td>0.939773</td>\n",
       "      <td>8.1</td>\n",
       "      <td>98 Kingsland Rd</td>\n",
       "    </tr>\n",
       "    <tr>\n",
       "      <th>1</th>\n",
       "      <td>171</td>\n",
       "      <td>Viet Grill</td>\n",
       "      <td>0.973170</td>\n",
       "      <td>7.6</td>\n",
       "      <td>58 Kingsland Rd</td>\n",
       "    </tr>\n",
       "    <tr>\n",
       "      <th>2</th>\n",
       "      <td>255</td>\n",
       "      <td>Friends of Ours</td>\n",
       "      <td>0.972873</td>\n",
       "      <td>8.8</td>\n",
       "      <td>61 Pitfield St</td>\n",
       "    </tr>\n",
       "    <tr>\n",
       "      <th>3</th>\n",
       "      <td>230</td>\n",
       "      <td>Curious Yellow Kafe</td>\n",
       "      <td>0.961717</td>\n",
       "      <td>8.2</td>\n",
       "      <td>77 Pitfield St</td>\n",
       "    </tr>\n",
       "    <tr>\n",
       "      <th>4</th>\n",
       "      <td>251</td>\n",
       "      <td>Via Emilia</td>\n",
       "      <td>0.945041</td>\n",
       "      <td>8.4</td>\n",
       "      <td>37A Hoxton Square</td>\n",
       "    </tr>\n",
       "    <tr>\n",
       "      <th>5</th>\n",
       "      <td>241</td>\n",
       "      <td>Sông Quê</td>\n",
       "      <td>0.962018</td>\n",
       "      <td>8.0</td>\n",
       "      <td>134 Kingsland Rd</td>\n",
       "    </tr>\n",
       "    <tr>\n",
       "      <th>6</th>\n",
       "      <td>278</td>\n",
       "      <td>Homeslice Pizza</td>\n",
       "      <td>0.943472</td>\n",
       "      <td>8.7</td>\n",
       "      <td>374-378 Old St</td>\n",
       "    </tr>\n",
       "    <tr>\n",
       "      <th>7</th>\n",
       "      <td>283</td>\n",
       "      <td>The Clove Club</td>\n",
       "      <td>0.965496</td>\n",
       "      <td>8.8</td>\n",
       "      <td>380 Old St</td>\n",
       "    </tr>\n",
       "    <tr>\n",
       "      <th>8</th>\n",
       "      <td>291</td>\n",
       "      <td>The Breakfast Club</td>\n",
       "      <td>0.957459</td>\n",
       "      <td>8.1</td>\n",
       "      <td>2-4 Rufus St</td>\n",
       "    </tr>\n",
       "    <tr>\n",
       "      <th>9</th>\n",
       "      <td>311</td>\n",
       "      <td>MEAT Mission</td>\n",
       "      <td>0.974697</td>\n",
       "      <td>8.4</td>\n",
       "      <td>14-15 Hoxton Market</td>\n",
       "    </tr>\n",
       "  </tbody>\n",
       "</table>\n",
       "</div>"
      ],
      "text/plain": [
       "   distance                 name  popularity  rating              address\n",
       "0       192           Hanoi Cafe    0.939773     8.1      98 Kingsland Rd\n",
       "1       171           Viet Grill    0.973170     7.6      58 Kingsland Rd\n",
       "2       255      Friends of Ours    0.972873     8.8       61 Pitfield St\n",
       "3       230  Curious Yellow Kafe    0.961717     8.2       77 Pitfield St\n",
       "4       251           Via Emilia    0.945041     8.4    37A Hoxton Square\n",
       "5       241             Sông Quê    0.962018     8.0     134 Kingsland Rd\n",
       "6       278      Homeslice Pizza    0.943472     8.7       374-378 Old St\n",
       "7       283       The Clove Club    0.965496     8.8           380 Old St\n",
       "8       291   The Breakfast Club    0.957459     8.1         2-4 Rufus St\n",
       "9       311         MEAT Mission    0.974697     8.4  14-15 Hoxton Market"
      ]
     },
     "execution_count": 2,
     "metadata": {},
     "output_type": "execute_result"
    }
   ],
   "source": [
    "top10 = pd.read_csv('API_dataFinal.csv',index_col = 0)\n",
    "top10.sort_values('rating')\n",
    "top10.head(10)"
   ]
  }
 ],
 "metadata": {
  "kernelspec": {
   "display_name": "Python 3 (ipykernel)",
   "language": "python",
   "name": "python3"
  },
  "language_info": {
   "codemirror_mode": {
    "name": "ipython",
    "version": 3
   },
   "file_extension": ".py",
   "mimetype": "text/x-python",
   "name": "python",
   "nbconvert_exporter": "python",
   "pygments_lexer": "ipython3",
   "version": "3.9.7"
  }
 },
 "nbformat": 4,
 "nbformat_minor": 4
}
