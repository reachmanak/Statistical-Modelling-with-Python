{
 "cells": [
  {
   "cell_type": "markdown",
   "metadata": {},
   "source": [
    "Build a regression model."
   ]
  },
  {
   "cell_type": "code",
   "execution_count": 3,
   "metadata": {},
   "outputs": [],
   "source": [
    "import pandas as pd\n",
    "import numpy as np\n",
    "import seaborn as sns\n",
    "import matplotlib.pyplot as plt\n",
    "import statsmodels.api as sm\n",
    "import warnings\n",
    "warnings.filterwarnings(\"ignore\")"
   ]
  },
  {
   "cell_type": "code",
   "execution_count": 4,
   "metadata": {},
   "outputs": [],
   "source": [
    "# Load Data\n",
    "London_bikes = pd.read_csv('Final_data.csv',index_col=0)"
   ]
  },
  {
   "cell_type": "code",
   "execution_count": 5,
   "metadata": {},
   "outputs": [],
   "source": [
    "# Renaming column name so error doesnt occur\n",
    "London_bikes.rename(columns={'Available.Bikes':'Bikes','Bike.Stations':'BikeStations'},inplace=True)"
   ]
  },
  {
   "cell_type": "code",
   "execution_count": 6,
   "metadata": {},
   "outputs": [
    {
     "name": "stdout",
     "output_type": "stream",
     "text": [
      "<class 'pandas.core.frame.DataFrame'>\n",
      "Int64Index: 50 entries, 0 to 49\n",
      "Data columns (total 5 columns):\n",
      " #   Column      Non-Null Count  Dtype  \n",
      "---  ------      --------------  -----  \n",
      " 0   distance    50 non-null     float64\n",
      " 1   popularity  50 non-null     int64  \n",
      " 2   rating      50 non-null     float64\n",
      " 3   review      50 non-null     int64  \n",
      " 4   Bikes       50 non-null     int64  \n",
      "dtypes: float64(2), int64(3)\n",
      "memory usage: 2.3 KB\n"
     ]
    }
   ],
   "source": [
    "# Deleting object variables so it doesnt intefere with model. These variables were not needed as well.\n",
    "London_bikes = London_bikes.drop(columns=[\"Restaurants\",\"address\",\"BikeStations\",\"index\",\"empty_slots\"],axis=1)\n",
    "London_bikes.info()"
   ]
  },
  {
   "cell_type": "code",
   "execution_count": 7,
   "metadata": {},
   "outputs": [],
   "source": [
    "#Filering columns into different variables to build model.\n",
    "# Bikes in the city will act as an dependent variable in our model to determine its influence.\n",
    "\n",
    "X = London_bikes[London_bikes.columns[~London_bikes.columns.isin(['Bikes'])]]\n",
    "y = London_bikes['Bikes']\n",
    "X = sm.add_constant(X)"
   ]
  },
  {
   "cell_type": "code",
   "execution_count": 8,
   "metadata": {},
   "outputs": [
    {
     "name": "stdout",
     "output_type": "stream",
     "text": [
      "                            OLS Regression Results                            \n",
      "==============================================================================\n",
      "Dep. Variable:                  Bikes   R-squared:                       0.074\n",
      "Model:                            OLS   Adj. R-squared:                 -0.008\n",
      "Method:                 Least Squares   F-statistic:                    0.9041\n",
      "Date:                Tue, 31 Jan 2023   Prob (F-statistic):              0.470\n",
      "Time:                        09:01:11   Log-Likelihood:                -196.77\n",
      "No. Observations:                  50   AIC:                             403.5\n",
      "Df Residuals:                      45   BIC:                             413.1\n",
      "Df Model:                           4                                         \n",
      "Covariance Type:            nonrobust                                         \n",
      "==============================================================================\n",
      "                 coef    std err          t      P>|t|      [0.025      0.975]\n",
      "------------------------------------------------------------------------------\n",
      "const         49.6851     37.629      1.320      0.193     -26.105     125.475\n",
      "distance       0.1031      0.065      1.595      0.118      -0.027       0.233\n",
      "popularity    -2.0358      1.258     -1.618      0.113      -4.569       0.498\n",
      "rating        -9.0749      7.876     -1.152      0.255     -24.938       6.788\n",
      "review        -0.0029      0.023     -0.130      0.897      -0.048       0.043\n",
      "==============================================================================\n",
      "Omnibus:                        2.828   Durbin-Watson:                   2.181\n",
      "Prob(Omnibus):                  0.243   Jarque-Bera (JB):                2.575\n",
      "Skew:                           0.546   Prob(JB):                        0.276\n",
      "Kurtosis:                       2.796   Cond. No.                     1.40e+04\n",
      "==============================================================================\n",
      "\n",
      "Notes:\n",
      "[1] Standard Errors assume that the covariance matrix of the errors is correctly specified.\n",
      "[2] The condition number is large, 1.4e+04. This might indicate that there are\n",
      "strong multicollinearity or other numerical problems.\n"
     ]
    }
   ],
   "source": [
    "result = sm.OLS(y, X).fit()\n",
    "print(result.summary())"
   ]
  },
  {
   "cell_type": "markdown",
   "metadata": {},
   "source": [
    "Provide model output and an interpretation of the results. "
   ]
  },
  {
   "cell_type": "markdown",
   "metadata": {},
   "source": [
    "Very Low R-Square shows  high variance\n",
    "P Values > 0.05 shows statistically insignificant\n",
    "After EDA, could have said that distance and popularity will have a correlation and dependence but the model states completely opposite. Even after multiple ommisions can say that data is inconclusive."
   ]
  },
  {
   "cell_type": "markdown",
   "metadata": {},
   "source": [
    "# Stretch"
   ]
  },
  {
   "cell_type": "markdown",
   "metadata": {},
   "source": [
    "How can you turn the regression model into a classification model?"
   ]
  },
  {
   "cell_type": "code",
   "execution_count": null,
   "metadata": {},
   "outputs": [],
   "source": []
  }
 ],
 "metadata": {
  "kernelspec": {
   "display_name": "Python 3 (ipykernel)",
   "language": "python",
   "name": "python3"
  },
  "language_info": {
   "codemirror_mode": {
    "name": "ipython",
    "version": 3
   },
   "file_extension": ".py",
   "mimetype": "text/x-python",
   "name": "python",
   "nbconvert_exporter": "python",
   "pygments_lexer": "ipython3",
   "version": "3.9.7"
  }
 },
 "nbformat": 4,
 "nbformat_minor": 4
}
